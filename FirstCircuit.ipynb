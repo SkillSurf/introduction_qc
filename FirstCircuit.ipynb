{
 "cells": [
  {
   "cell_type": "code",
   "execution_count": 1,
   "id": "ae34c2b3-1609-4ee1-8ff7-2e7d16cd09bf",
   "metadata": {},
   "outputs": [],
   "source": [
    "from qiskit import QuantumCircuit,QuantumRegister, ClassicalRegister"
   ]
  },
  {
   "cell_type": "code",
   "execution_count": 2,
   "id": "dd1394b4-53e5-4d2e-8bcc-cf6d9c482116",
   "metadata": {},
   "outputs": [],
   "source": [
    "#2 quantum registers\n",
    "qr=QuantumRegister(2)"
   ]
  },
  {
   "cell_type": "code",
   "execution_count": 3,
   "id": "c58960ee-04f6-4f4a-b728-794ea2416324",
   "metadata": {},
   "outputs": [],
   "source": [
    "#2 classical registers\n",
    "cr=ClassicalRegister(2)"
   ]
  },
  {
   "cell_type": "code",
   "execution_count": 4,
   "id": "caa016ba-e9dd-495d-8bfd-8e8a14a9810f",
   "metadata": {},
   "outputs": [],
   "source": [
    "#Creating a quantum circuit of qr quantum registers and cr classical registers \n",
    "qCircuit=QuantumCircuit(qr,cr)"
   ]
  },
  {
   "cell_type": "code",
   "execution_count": 5,
   "id": "203143aa-ee4f-4efb-b4e7-e87a692f1380",
   "metadata": {},
   "outputs": [
    {
     "data": {
      "image/png": "[encoded data removed]",
      "text/plain": [
       "<Figure size 129.533x204.68 with 1 Axes>"
      ]
     },
     "execution_count": 5,
     "metadata": {},
     "output_type": "execute_result"
    }
   ],
   "source": [
    "#Drawing the circuit\n",
    "qCircuit.draw()\n"
   ]
  },
  {
   "cell_type": "code",
   "execution_count": 6,
   "id": "1f0c078a-8123-44f1-bf7b-5a6fb4cdb438",
   "metadata": {},
   "outputs": [
    {
     "data": {
      "text/plain": [
       "<qiskit.circuit.instructionset.InstructionSet at 0x7f8c2f6ef550>"
      ]
     },
     "execution_count": 6,
     "metadata": {},
     "output_type": "execute_result"
    }
   ],
   "source": [
    "#Adding a Hadamard gate for one qubit\n",
    "qCircuit.h(qr[0])"
   ]
  },
  {
   "cell_type": "code",
   "execution_count": 7,
   "id": "af8456bc-fe4f-4ec8-ab55-0969267f7259",
   "metadata": {},
   "outputs": [
    {
     "data": {
      "image/png": "[encoded data removed]",
      "text/plain": [
       "<Figure size 159.633x204.68 with 1 Axes>"
      ]
     },
     "execution_count": 7,
     "metadata": {},
     "output_type": "execute_result"
    }
   ],
   "source": [
    "qCircuit.draw()"
   ]
  },
  {
   "cell_type": "code",
   "execution_count": 8,
   "id": "28d90024-e9ae-4cd2-8a3c-08c0b73e4aac",
   "metadata": {},
   "outputs": [
    {
     "data": {
      "text/plain": [
       "<qiskit.circuit.instructionset.InstructionSet at 0x7f8c2f6dc340>"
      ]
     },
     "execution_count": 8,
     "metadata": {},
     "output_type": "execute_result"
    }
   ],
   "source": [
    "#Adding a CNOT gate with control as qr[0] and target as qr[1]\n",
    "qCircuit.cx(qr[0],qr[1])"
   ]
  },
  {
   "cell_type": "code",
   "execution_count": 9,
   "id": "82ddbcf4-96da-4a47-bfb4-ee582cbba0dd",
   "metadata": {},
   "outputs": [
    {
     "data": {
      "image/png": "[encoded data removed]",
      "text/plain": [
       "<Figure size 219.833x204.68 with 1 Axes>"
      ]
     },
     "execution_count": 9,
     "metadata": {},
     "output_type": "execute_result"
    }
   ],
   "source": [
    "qCircuit.draw()"
   ]
  },
  {
   "cell_type": "code",
   "execution_count": 10,
   "id": "95c66808-31d0-44b1-96e5-0b38ea9dea00",
   "metadata": {},
   "outputs": [
    {
     "data": {
      "text/plain": [
       "<qiskit.circuit.instructionset.InstructionSet at 0x7f8c2f55f3a0>"
      ]
     },
     "execution_count": 10,
     "metadata": {},
     "output_type": "execute_result"
    }
   ],
   "source": [
    "#Measure qr quantum registers and pass the output to cr classical registers\n",
    "qCircuit.measure(qr,cr)"
   ]
  },
  {
   "cell_type": "code",
   "execution_count": 11,
   "id": "4fc6bc20-f3b6-441a-ae01-c16c653d0da7",
   "metadata": {},
   "outputs": [
    {
     "data": {
      "image/png": "[encoded data removed]",
      "text/plain": [
       "<Figure size 340.233x204.68 with 1 Axes>"
      ]
     },
     "execution_count": 11,
     "metadata": {},
     "output_type": "execute_result"
    }
   ],
   "source": [
    "qCircuit.draw()"
   ]
  },
  {
   "cell_type": "code",
   "execution_count": 12,
   "id": "9b95153f-bff3-41ef-873a-d4c30034e5ff",
   "metadata": {},
   "outputs": [
    {
     "name": "stderr",
     "output_type": "stream",
     "text": [
      "<frozen importlib._bootstrap>:219: RuntimeWarning: scipy._lib.messagestream.MessageStream size changed, may indicate binary incompatibility. Expected 56 from C header, got 64 from PyObject\n"
     ]
    }
   ],
   "source": [
    "#Setting up the simulation\n",
    "from qiskit import Aer,execute\n",
    "simulator=Aer.get_backend('qasm_simulator')"
   ]
  },
  {
   "cell_type": "code",
   "execution_count": 13,
   "id": "2d78daca-08ec-47b3-bd09-51d3cda0587c",
   "metadata": {},
   "outputs": [],
   "source": [
    "#Simulating the circuit\n",
    "result=execute(qCircuit,backend=simulator).result()"
   ]
  },
  {
   "cell_type": "code",
   "execution_count": 14,
   "id": "28f1d8ce-c4fb-4b73-a5a5-fb0d3ffe9b45",
   "metadata": {},
   "outputs": [],
   "source": [
    "from qiskit.tools.visualization import plot_histogram"
   ]
  },
  {
   "cell_type": "code",
   "execution_count": 15,
   "id": "22db8d2b-4b79-46a3-8e6f-c1e1cbd0ec92",
   "metadata": {},
   "outputs": [
    {
     "data": {
      "image/png": "[encoded data removed]",
      "text/plain": [
       "<Figure size 504x360 with 1 Axes>"
      ]
     },
     "execution_count": 15,
     "metadata": {},
     "output_type": "execute_result"
    }
   ],
   "source": [
    "#Plotting the counts of the classical outputs\n",
    "plot_histogram(result.get_counts())"
   ]
  },
  {
   "cell_type": "code",
   "execution_count": 16,
   "id": "86c27ad4-48f2-4e11-a515-454bcc015529",
   "metadata": {},
   "outputs": [
    {
     "data": {
      "text/plain": [
       "<AccountProvider for IBMQ(hub='ibm-q', group='open', project='main')>"
      ]
     },
     "execution_count": 16,
     "metadata": {},
     "output_type": "execute_result"
    }
   ],
   "source": [
    "#Loading IBM Quantum experience account\n",
    "from qiskit import IBMQ\n",
    "IBMQ.load_account()"
   ]
  },
  {
   "cell_type": "code",
   "execution_count": 18,
   "id": "db11edce-8edf-4ced-bd51-2ddaa6de2f37",
   "metadata": {},
   "outputs": [],
   "source": [
    "#Choosing the provider\n",
    "provider=IBMQ.get_provider('ibm-q')"
   ]
  },
  {
   "cell_type": "markdown",
   "id": "bc132d9a-5ae0-43d4-a545-7e65083e73b6",
   "metadata": {},
   "source": [
    "Choose a backend from the list of avialble quantum resources for you: https://quantum-computing.ibm.com/services/resources?tab=yours"
   ]
  },
  {
   "cell_type": "code",
   "execution_count": 19,
   "id": "256db451-c7b4-43cb-abba-60e8c3e5fbfc",
   "metadata": {},
   "outputs": [],
   "source": [
    "#choosing the quantum computer to run the quantum circuit\n",
    "backend_qc = provider.get_backend('ibm_oslo')  #'ibmq_quito'"
   ]
  },
  {
   "cell_type": "code",
   "execution_count": 20,
   "id": "69100f88-b193-4aba-aea1-9561d48e1be8",
   "metadata": {},
   "outputs": [],
   "source": [
    "#Executing the quantum circuit on the chosen quantum computer\n",
    "job=execute(qCircuit,backend=backend_qc)"
   ]
  },
  {
   "cell_type": "code",
   "execution_count": 21,
   "id": "55b6f4f0-3ba0-48aa-911f-370477ed7e4b",
   "metadata": {},
   "outputs": [],
   "source": [
    "from qiskit.tools.monitor import job_monitor"
   ]
  },
  {
   "cell_type": "code",
   "execution_count": 22,
   "id": "da08e35c-926c-4cbc-b128-279a383c9850",
   "metadata": {},
   "outputs": [
    {
     "name": "stdout",
     "output_type": "stream",
     "text": [
      "Job Status: job has successfully run\n"
     ]
    }
   ],
   "source": [
    "#Monitoring the job\n",
    "job_monitor(job)"
   ]
  },
  {
   "cell_type": "code",
   "execution_count": 23,
   "id": "aa3679de-6a48-4b10-8164-87db0b64e3e1",
   "metadata": {},
   "outputs": [],
   "source": [
    "#Getting the results of the job\n",
    "result=job.result()"
   ]
  },
  {
   "cell_type": "code",
   "execution_count": 24,
   "id": "c615aed2-f116-4d9d-bb37-a1e03bd2deb0",
   "metadata": {},
   "outputs": [
    {
     "data": {
      "image/png": "[encoded data removed]",
      "text/plain": [
       "<Figure size 504x360 with 1 Axes>"
      ]
     },
     "execution_count": 24,
     "metadata": {},
     "output_type": "execute_result"
    }
   ],
   "source": [
    "#Plot the results\n",
    "plot_histogram(result.get_counts())"
   ]
  },
  {
   "cell_type": "code",
   "execution_count": null,
   "id": "e9f38719-da9d-4fd6-8d68-88df81640bb4",
   "metadata": {},
   "outputs": [],
   "source": []
  }
 ],
 "metadata": {
  "kernelspec": {
   "display_name": "Python 3 (ipykernel)",
   "language": "python",
   "name": "python3"
  },
  "language_info": {
   "codemirror_mode": {
    "name": "ipython",
    "version": 3
   },
   "file_extension": ".py",
   "mimetype": "text/x-python",
   "name": "python",
   "nbconvert_exporter": "python",
   "pygments_lexer": "ipython3",
   "version": "3.8.13"
  },
  "widgets": {
   "application/vnd.jupyter.widget-state+json": {
    "state": {},
    "version_major": 2,
    "version_minor": 0
   }
  }
 },
 "nbformat": 4,
 "nbformat_minor": 5
}
